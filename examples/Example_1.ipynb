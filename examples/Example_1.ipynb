{
 "cells": [
  {
   "cell_type": "markdown",
   "metadata": {},
   "source": [
    "# Example \n",
    "Variable selection with Logitstep function from stepwise-regression on an binary outcome dataset."
   ]
  },
  {
   "cell_type": "markdown",
   "metadata": {},
   "source": [
    "# Load packages"
   ]
  },
  {
   "cell_type": "code",
   "execution_count": 1,
   "metadata": {},
   "outputs": [],
   "source": [
    "# help packages\n",
    "from sklearn.model_selection import train_test_split\n",
    "from sklearn.metrics import roc_auc_score\n",
    "from sklearn import tree\n",
    "import pandas as pd\n",
    "\n",
    "# from stepwise-regression\n",
    "from stepreg.stepreg import Logitstep"
   ]
  },
  {
   "cell_type": "markdown",
   "metadata": {},
   "source": [
    "# Import data"
   ]
  },
  {
   "cell_type": "markdown",
   "metadata": {},
   "source": [
    "Dataset called fraud-detection-bank-dataset-20k-records-binary which can be downloaded from\n",
    "[kaggle](https://www.kaggle.com/datasets/volodymyrgavrysh/fraud-detection-bank-dataset-20k-records-binary)."
   ]
  },
  {
   "cell_type": "code",
   "execution_count": 2,
   "metadata": {
    "scrolled": true
   },
   "outputs": [
    {
     "data": {
      "text/html": [
       "<div>\n",
       "<style scoped>\n",
       "    .dataframe tbody tr th:only-of-type {\n",
       "        vertical-align: middle;\n",
       "    }\n",
       "\n",
       "    .dataframe tbody tr th {\n",
       "        vertical-align: top;\n",
       "    }\n",
       "\n",
       "    .dataframe thead th {\n",
       "        text-align: right;\n",
       "    }\n",
       "</style>\n",
       "<table border=\"1\" class=\"dataframe\">\n",
       "  <thead>\n",
       "    <tr style=\"text-align: right;\">\n",
       "      <th></th>\n",
       "      <th>col_0</th>\n",
       "      <th>col_1</th>\n",
       "      <th>col_2</th>\n",
       "      <th>col_3</th>\n",
       "      <th>col_4</th>\n",
       "      <th>col_5</th>\n",
       "      <th>col_6</th>\n",
       "      <th>col_7</th>\n",
       "      <th>col_8</th>\n",
       "      <th>col_9</th>\n",
       "      <th>...</th>\n",
       "      <th>col_103</th>\n",
       "      <th>col_104</th>\n",
       "      <th>col_105</th>\n",
       "      <th>col_106</th>\n",
       "      <th>col_107</th>\n",
       "      <th>col_108</th>\n",
       "      <th>col_109</th>\n",
       "      <th>col_110</th>\n",
       "      <th>col_111</th>\n",
       "      <th>targets</th>\n",
       "    </tr>\n",
       "  </thead>\n",
       "  <tbody>\n",
       "    <tr>\n",
       "      <th>0</th>\n",
       "      <td>9</td>\n",
       "      <td>1354</td>\n",
       "      <td>0</td>\n",
       "      <td>18</td>\n",
       "      <td>0</td>\n",
       "      <td>1</td>\n",
       "      <td>7</td>\n",
       "      <td>9</td>\n",
       "      <td>0</td>\n",
       "      <td>0</td>\n",
       "      <td>...</td>\n",
       "      <td>0</td>\n",
       "      <td>0</td>\n",
       "      <td>0</td>\n",
       "      <td>1</td>\n",
       "      <td>1</td>\n",
       "      <td>0</td>\n",
       "      <td>0</td>\n",
       "      <td>0</td>\n",
       "      <td>49</td>\n",
       "      <td>1</td>\n",
       "    </tr>\n",
       "    <tr>\n",
       "      <th>1</th>\n",
       "      <td>0</td>\n",
       "      <td>239</td>\n",
       "      <td>0</td>\n",
       "      <td>1</td>\n",
       "      <td>0</td>\n",
       "      <td>1</td>\n",
       "      <td>0</td>\n",
       "      <td>0</td>\n",
       "      <td>0</td>\n",
       "      <td>0</td>\n",
       "      <td>...</td>\n",
       "      <td>0</td>\n",
       "      <td>1</td>\n",
       "      <td>0</td>\n",
       "      <td>0</td>\n",
       "      <td>0</td>\n",
       "      <td>0</td>\n",
       "      <td>0</td>\n",
       "      <td>0</td>\n",
       "      <td>55</td>\n",
       "      <td>1</td>\n",
       "    </tr>\n",
       "    <tr>\n",
       "      <th>2</th>\n",
       "      <td>0</td>\n",
       "      <td>260</td>\n",
       "      <td>0</td>\n",
       "      <td>4</td>\n",
       "      <td>0</td>\n",
       "      <td>3</td>\n",
       "      <td>6</td>\n",
       "      <td>0</td>\n",
       "      <td>0</td>\n",
       "      <td>0</td>\n",
       "      <td>...</td>\n",
       "      <td>0</td>\n",
       "      <td>0</td>\n",
       "      <td>0</td>\n",
       "      <td>1</td>\n",
       "      <td>1</td>\n",
       "      <td>0</td>\n",
       "      <td>0</td>\n",
       "      <td>0</td>\n",
       "      <td>56</td>\n",
       "      <td>1</td>\n",
       "    </tr>\n",
       "    <tr>\n",
       "      <th>3</th>\n",
       "      <td>17</td>\n",
       "      <td>682</td>\n",
       "      <td>0</td>\n",
       "      <td>1</td>\n",
       "      <td>0</td>\n",
       "      <td>0</td>\n",
       "      <td>8</td>\n",
       "      <td>17</td>\n",
       "      <td>0</td>\n",
       "      <td>0</td>\n",
       "      <td>...</td>\n",
       "      <td>0</td>\n",
       "      <td>1</td>\n",
       "      <td>0</td>\n",
       "      <td>1</td>\n",
       "      <td>1</td>\n",
       "      <td>0</td>\n",
       "      <td>0</td>\n",
       "      <td>0</td>\n",
       "      <td>65</td>\n",
       "      <td>1</td>\n",
       "    </tr>\n",
       "    <tr>\n",
       "      <th>4</th>\n",
       "      <td>1</td>\n",
       "      <td>540</td>\n",
       "      <td>0</td>\n",
       "      <td>2</td>\n",
       "      <td>0</td>\n",
       "      <td>1</td>\n",
       "      <td>7</td>\n",
       "      <td>1</td>\n",
       "      <td>0</td>\n",
       "      <td>0</td>\n",
       "      <td>...</td>\n",
       "      <td>0</td>\n",
       "      <td>0</td>\n",
       "      <td>0</td>\n",
       "      <td>1</td>\n",
       "      <td>1</td>\n",
       "      <td>0</td>\n",
       "      <td>0</td>\n",
       "      <td>0</td>\n",
       "      <td>175</td>\n",
       "      <td>1</td>\n",
       "    </tr>\n",
       "  </tbody>\n",
       "</table>\n",
       "<p>5 rows × 113 columns</p>\n",
       "</div>"
      ],
      "text/plain": [
       "   col_0  col_1  col_2  col_3  col_4  col_5  col_6  col_7  col_8  col_9  ...  \\\n",
       "0      9   1354      0     18      0      1      7      9      0      0  ...   \n",
       "1      0    239      0      1      0      1      0      0      0      0  ...   \n",
       "2      0    260      0      4      0      3      6      0      0      0  ...   \n",
       "3     17    682      0      1      0      0      8     17      0      0  ...   \n",
       "4      1    540      0      2      0      1      7      1      0      0  ...   \n",
       "\n",
       "   col_103  col_104  col_105  col_106  col_107  col_108  col_109  col_110  \\\n",
       "0        0        0        0        1        1        0        0        0   \n",
       "1        0        1        0        0        0        0        0        0   \n",
       "2        0        0        0        1        1        0        0        0   \n",
       "3        0        1        0        1        1        0        0        0   \n",
       "4        0        0        0        1        1        0        0        0   \n",
       "\n",
       "   col_111  targets  \n",
       "0       49        1  \n",
       "1       55        1  \n",
       "2       56        1  \n",
       "3       65        1  \n",
       "4      175        1  \n",
       "\n",
       "[5 rows x 113 columns]"
      ]
     },
     "execution_count": 2,
     "metadata": {},
     "output_type": "execute_result"
    }
   ],
   "source": [
    "path =  # enter path of fraud-detection-bank-dataset\n",
    "data = pd.read_csv (path,index_col='Unnamed: 0')\n",
    "data.head()"
   ]
  },
  {
   "cell_type": "code",
   "execution_count": 3,
   "metadata": {},
   "outputs": [],
   "source": [
    "# define target\n",
    "y=data[\"targets\"]\n",
    "\n",
    "# define variables\n",
    "X=data.drop([\"targets\"],axis=1)"
   ]
  },
  {
   "cell_type": "markdown",
   "metadata": {},
   "source": [
    "# Train test split"
   ]
  },
  {
   "cell_type": "markdown",
   "metadata": {},
   "source": [
    "Simple train test split with 33% test data."
   ]
  },
  {
   "cell_type": "code",
   "execution_count": 4,
   "metadata": {},
   "outputs": [
    {
     "name": "stdout",
     "output_type": "stream",
     "text": [
      "overall: 26.57\n",
      "train:   26.63\n",
      "test:    26.44\n"
     ]
    }
   ],
   "source": [
    "X_train, X_test, y_train, y_test = train_test_split(X, y, test_size=0.33, random_state=7102020)\n",
    "\n",
    "# check distribution of target \n",
    "print(\"overall:\",round(y.mean()*100,2))\n",
    "print(\"train:  \",round(y_train.mean()*100,2))\n",
    "print(\"test:   \",round(y_test.mean()*100,2))"
   ]
  },
  {
   "cell_type": "markdown",
   "metadata": {},
   "source": [
    "# Data preparation"
   ]
  },
  {
   "cell_type": "markdown",
   "metadata": {},
   "source": [
    "In logistic regression it is crucial to prepare your data. A conventional way to do this is to bin the explanatory variables. I use sklearns DecisionTreeClassifier to do this. It is also common to do a weight of evidence transformation, but i keep it simple and just use the target rate for every bin."
   ]
  },
  {
   "cell_type": "code",
   "execution_count": 5,
   "metadata": {},
   "outputs": [
    {
     "data": {
      "text/html": [
       "<div>\n",
       "<style scoped>\n",
       "    .dataframe tbody tr th:only-of-type {\n",
       "        vertical-align: middle;\n",
       "    }\n",
       "\n",
       "    .dataframe tbody tr th {\n",
       "        vertical-align: top;\n",
       "    }\n",
       "\n",
       "    .dataframe thead th {\n",
       "        text-align: right;\n",
       "    }\n",
       "</style>\n",
       "<table border=\"1\" class=\"dataframe\">\n",
       "  <thead>\n",
       "    <tr style=\"text-align: right;\">\n",
       "      <th></th>\n",
       "      <th>col_0</th>\n",
       "      <th>col_1</th>\n",
       "      <th>col_2</th>\n",
       "      <th>col_3</th>\n",
       "      <th>col_4</th>\n",
       "      <th>col_5</th>\n",
       "      <th>col_6</th>\n",
       "      <th>col_7</th>\n",
       "      <th>col_8</th>\n",
       "      <th>col_9</th>\n",
       "      <th>...</th>\n",
       "      <th>col_102</th>\n",
       "      <th>col_103</th>\n",
       "      <th>col_104</th>\n",
       "      <th>col_105</th>\n",
       "      <th>col_106</th>\n",
       "      <th>col_107</th>\n",
       "      <th>col_108</th>\n",
       "      <th>col_109</th>\n",
       "      <th>col_110</th>\n",
       "      <th>col_111</th>\n",
       "    </tr>\n",
       "  </thead>\n",
       "  <tbody>\n",
       "    <tr>\n",
       "      <th>0</th>\n",
       "      <td>0.863908</td>\n",
       "      <td>0.874867</td>\n",
       "      <td>0.706804</td>\n",
       "      <td>0.942048</td>\n",
       "      <td>0.733683</td>\n",
       "      <td>0.429426</td>\n",
       "      <td>0.879849</td>\n",
       "      <td>0.863908</td>\n",
       "      <td>0.733683</td>\n",
       "      <td>0.733683</td>\n",
       "      <td>...</td>\n",
       "      <td>0.484536</td>\n",
       "      <td>0.733683</td>\n",
       "      <td>0.826676</td>\n",
       "      <td>0.733683</td>\n",
       "      <td>0.914686</td>\n",
       "      <td>0.912977</td>\n",
       "      <td>0.733683</td>\n",
       "      <td>0.7514</td>\n",
       "      <td>0.737729</td>\n",
       "      <td>0.714542</td>\n",
       "    </tr>\n",
       "    <tr>\n",
       "      <th>1</th>\n",
       "      <td>0.654262</td>\n",
       "      <td>0.789764</td>\n",
       "      <td>0.706804</td>\n",
       "      <td>0.688023</td>\n",
       "      <td>0.733683</td>\n",
       "      <td>0.429426</td>\n",
       "      <td>0.647247</td>\n",
       "      <td>0.654262</td>\n",
       "      <td>0.733683</td>\n",
       "      <td>0.733683</td>\n",
       "      <td>...</td>\n",
       "      <td>0.671700</td>\n",
       "      <td>0.733683</td>\n",
       "      <td>0.567803</td>\n",
       "      <td>0.733683</td>\n",
       "      <td>0.653551</td>\n",
       "      <td>0.691796</td>\n",
       "      <td>0.733683</td>\n",
       "      <td>0.7514</td>\n",
       "      <td>0.737729</td>\n",
       "      <td>0.714542</td>\n",
       "    </tr>\n",
       "    <tr>\n",
       "      <th>2</th>\n",
       "      <td>0.654262</td>\n",
       "      <td>0.874867</td>\n",
       "      <td>0.706804</td>\n",
       "      <td>0.942048</td>\n",
       "      <td>0.733683</td>\n",
       "      <td>0.592640</td>\n",
       "      <td>0.879849</td>\n",
       "      <td>0.654262</td>\n",
       "      <td>0.733683</td>\n",
       "      <td>0.733683</td>\n",
       "      <td>...</td>\n",
       "      <td>0.865254</td>\n",
       "      <td>0.733683</td>\n",
       "      <td>0.826676</td>\n",
       "      <td>0.733683</td>\n",
       "      <td>0.914686</td>\n",
       "      <td>0.912977</td>\n",
       "      <td>0.733683</td>\n",
       "      <td>0.7514</td>\n",
       "      <td>0.737729</td>\n",
       "      <td>0.714542</td>\n",
       "    </tr>\n",
       "    <tr>\n",
       "      <th>3</th>\n",
       "      <td>0.863908</td>\n",
       "      <td>0.874867</td>\n",
       "      <td>0.706804</td>\n",
       "      <td>0.688023</td>\n",
       "      <td>0.733683</td>\n",
       "      <td>0.930119</td>\n",
       "      <td>0.879849</td>\n",
       "      <td>0.863908</td>\n",
       "      <td>0.733683</td>\n",
       "      <td>0.733683</td>\n",
       "      <td>...</td>\n",
       "      <td>0.865254</td>\n",
       "      <td>0.733683</td>\n",
       "      <td>0.567803</td>\n",
       "      <td>0.733683</td>\n",
       "      <td>0.914686</td>\n",
       "      <td>0.912977</td>\n",
       "      <td>0.733683</td>\n",
       "      <td>0.7514</td>\n",
       "      <td>0.737729</td>\n",
       "      <td>0.528736</td>\n",
       "    </tr>\n",
       "    <tr>\n",
       "      <th>4</th>\n",
       "      <td>0.863908</td>\n",
       "      <td>0.874867</td>\n",
       "      <td>0.706804</td>\n",
       "      <td>0.942048</td>\n",
       "      <td>0.733683</td>\n",
       "      <td>0.429426</td>\n",
       "      <td>0.879849</td>\n",
       "      <td>0.863908</td>\n",
       "      <td>0.733683</td>\n",
       "      <td>0.733683</td>\n",
       "      <td>...</td>\n",
       "      <td>0.865254</td>\n",
       "      <td>0.733683</td>\n",
       "      <td>0.826676</td>\n",
       "      <td>0.733683</td>\n",
       "      <td>0.914686</td>\n",
       "      <td>0.912977</td>\n",
       "      <td>0.733683</td>\n",
       "      <td>0.7514</td>\n",
       "      <td>0.737729</td>\n",
       "      <td>0.691076</td>\n",
       "    </tr>\n",
       "  </tbody>\n",
       "</table>\n",
       "<p>5 rows × 112 columns</p>\n",
       "</div>"
      ],
      "text/plain": [
       "      col_0     col_1     col_2     col_3     col_4     col_5     col_6  \\\n",
       "0  0.863908  0.874867  0.706804  0.942048  0.733683  0.429426  0.879849   \n",
       "1  0.654262  0.789764  0.706804  0.688023  0.733683  0.429426  0.647247   \n",
       "2  0.654262  0.874867  0.706804  0.942048  0.733683  0.592640  0.879849   \n",
       "3  0.863908  0.874867  0.706804  0.688023  0.733683  0.930119  0.879849   \n",
       "4  0.863908  0.874867  0.706804  0.942048  0.733683  0.429426  0.879849   \n",
       "\n",
       "      col_7     col_8     col_9  ...   col_102   col_103   col_104   col_105  \\\n",
       "0  0.863908  0.733683  0.733683  ...  0.484536  0.733683  0.826676  0.733683   \n",
       "1  0.654262  0.733683  0.733683  ...  0.671700  0.733683  0.567803  0.733683   \n",
       "2  0.654262  0.733683  0.733683  ...  0.865254  0.733683  0.826676  0.733683   \n",
       "3  0.863908  0.733683  0.733683  ...  0.865254  0.733683  0.567803  0.733683   \n",
       "4  0.863908  0.733683  0.733683  ...  0.865254  0.733683  0.826676  0.733683   \n",
       "\n",
       "    col_106   col_107   col_108  col_109   col_110   col_111  \n",
       "0  0.914686  0.912977  0.733683   0.7514  0.737729  0.714542  \n",
       "1  0.653551  0.691796  0.733683   0.7514  0.737729  0.714542  \n",
       "2  0.914686  0.912977  0.733683   0.7514  0.737729  0.714542  \n",
       "3  0.914686  0.912977  0.733683   0.7514  0.737729  0.528736  \n",
       "4  0.914686  0.912977  0.733683   0.7514  0.737729  0.691076  \n",
       "\n",
       "[5 rows x 112 columns]"
      ]
     },
     "execution_count": 5,
     "metadata": {},
     "output_type": "execute_result"
    }
   ],
   "source": [
    "Xbin=X\n",
    "clf = tree.DecisionTreeClassifier(max_depth=3,min_impurity_decrease=0.001)\n",
    "col_model = {}\n",
    "for col,i in zip(X.columns, range(len(X.columns))):\n",
    "    col_model[i] = clf.fit(X_train[[col]], y_train)\n",
    "    Xbin[col] = col_model[i].fit(X_train[[col]], y_train).predict_proba(X[[col]])\n",
    "Xbin.head()"
   ]
  },
  {
   "cell_type": "code",
   "execution_count": 6,
   "metadata": {},
   "outputs": [],
   "source": [
    "X_train, X_test, y_train, y_test = train_test_split(Xbin, y, test_size=0.33, random_state=7102020)"
   ]
  },
  {
   "cell_type": "markdown",
   "metadata": {},
   "source": [
    "# Model training"
   ]
  },
  {
   "cell_type": "markdown",
   "metadata": {},
   "source": [
    "First of all lets try modeling with default parameters:"
   ]
  },
  {
   "cell_type": "code",
   "execution_count": 7,
   "metadata": {
    "scrolled": true
   },
   "outputs": [
    {
     "name": "stdout",
     "output_type": "stream",
     "text": [
      "variable col_5 entered in step 1\n",
      "variable col_111 entered in step 2\n",
      "variable col_106 entered in step 3\n",
      "variable col_6 entered in step 4\n",
      "variable col_83 entered in step 5\n",
      "variable col_54 entered in step 6\n",
      "variable col_74 entered in step 7\n",
      "variable col_14 entered in step 8\n",
      "variable col_110 entered in step 9\n",
      "variable col_102 entered in step 10\n",
      "variable col_3 entered in step 11\n",
      "variable col_2 entered in step 12\n",
      "variable col_29 entered in step 13\n",
      "variable col_107 entered in step 14\n",
      "variable col_26 entered in step 15\n",
      "variable col_69 entered in step 16\n",
      "variable col_94 entered in step 17\n",
      "variable col_1 entered in step 18\n",
      "variable col_16 entered in step 19\n",
      "variable col_49 entered in step 20\n",
      "variable col_86 entered in step 21\n",
      "variable col_72 entered in step 22\n",
      "variable col_96 entered in step 23\n",
      "variable col_24 entered in step 24\n",
      "variable col_43 entered in step 25\n",
      "variable col_36 entered in step 26\n",
      "variable col_77 entered in step 27\n",
      "variable col_93 entered in step 28\n",
      "variable col_25 entered in step 29\n",
      "variable col_76 entered in step 30\n",
      "Final variable list model: ['intercept', 'col_5', 'col_111', 'col_106', 'col_6', 'col_83', 'col_54', 'col_74', 'col_14', 'col_110', 'col_102', 'col_3', 'col_2', 'col_29', 'col_107', 'col_26', 'col_69', 'col_94', 'col_1', 'col_16', 'col_49', 'col_86', 'col_72', 'col_96', 'col_24', 'col_43', 'col_36', 'col_77', 'col_93', 'col_25', 'col_76']\n",
      "                           Logit Regression Results                           \n",
      "==============================================================================\n",
      "Dep. Variable:                targets   No. Observations:                13713\n",
      "Model:                          Logit   Df Residuals:                    13682\n",
      "Method:                           MLE   Df Model:                           30\n",
      "Date:                Thu, 28 Jul 2022   Pseudo R-squ.:                  0.6349\n",
      "Time:                        16:32:34   Log-Likelihood:                -2901.4\n",
      "converged:                       True   LL-Null:                       -7947.5\n",
      "Covariance Type:            nonrobust   LLR p-value:                     0.000\n",
      "==============================================================================\n",
      "                 coef    std err          z      P>|z|      [0.025      0.975]\n",
      "------------------------------------------------------------------------------\n",
      "intercept     47.5886      2.263     21.030      0.000      43.153      52.024\n",
      "col_5         -3.5801      0.177    -20.270      0.000      -3.926      -3.234\n",
      "col_111       -3.2023      0.280    -11.422      0.000      -3.752      -2.653\n",
      "col_106       -7.3549      0.555    -13.252      0.000      -8.443      -6.267\n",
      "col_6         -3.0150      0.226    -13.322      0.000      -3.459      -2.571\n",
      "col_83        -3.1457      0.243    -12.955      0.000      -3.622      -2.670\n",
      "col_54        -1.6491      0.386     -4.278      0.000      -2.405      -0.894\n",
      "col_74        -5.6045      0.392    -14.291      0.000      -6.373      -4.836\n",
      "col_14        -2.5301      0.331     -7.634      0.000      -3.180      -1.881\n",
      "col_110      -10.6456      0.853    -12.485      0.000     -12.317      -8.974\n",
      "col_102       -5.1903      0.474    -10.953      0.000      -6.119      -4.262\n",
      "col_3         -3.4479      0.287    -12.004      0.000      -4.011      -2.885\n",
      "col_2         -6.2143      0.700     -8.876      0.000      -7.587      -4.842\n",
      "col_29        -3.8558      0.508     -7.591      0.000      -4.851      -2.860\n",
      "col_107       -4.0884      0.808     -5.061      0.000      -5.672      -2.505\n",
      "col_26        -5.7185      1.115     -5.129      0.000      -7.904      -3.533\n",
      "col_69        -2.0987      0.429     -4.889      0.000      -2.940      -1.257\n",
      "col_94        -3.8593      0.805     -4.794      0.000      -5.437      -2.282\n",
      "col_1         -1.7101      0.333     -5.140      0.000      -2.362      -1.058\n",
      "col_16         6.8705      0.978      7.023      0.000       4.953       8.788\n",
      "col_49        -3.1201      0.513     -6.085      0.000      -4.125      -2.115\n",
      "col_86        -2.3639      0.488     -4.846      0.000      -3.320      -1.408\n",
      "col_72         5.1138      1.405      3.638      0.000       2.359       7.869\n",
      "col_96         8.3494      1.239      6.738      0.000       5.921      10.778\n",
      "col_24        -5.0549      1.122     -4.504      0.000      -7.255      -2.855\n",
      "col_43        -3.9466      0.858     -4.602      0.000      -5.627      -2.266\n",
      "col_36         2.6925      0.605      4.448      0.000       1.506       3.879\n",
      "col_77        -2.3416      0.642     -3.645      0.000      -3.600      -1.083\n",
      "col_93         5.4030      1.389      3.891      0.000       2.682       8.125\n",
      "col_25        -1.6598      0.480     -3.454      0.001      -2.601      -0.718\n",
      "col_76        -1.0092      0.305     -3.311      0.001      -1.606      -0.412\n",
      "==============================================================================\n"
     ]
    },
    {
     "data": {
      "image/png": "[encoded data removed]",
      "text/plain": [
       "<Figure size 432x288 with 1 Axes>"
      ]
     },
     "metadata": {
      "needs_background": "light"
     },
     "output_type": "display_data"
    }
   ],
   "source": [
    "logit_results, logit_model, steplist = Logitstep(y_train,X_train)"
   ]
  },
  {
   "cell_type": "markdown",
   "metadata": {},
   "source": [
    "By default Logitstep selects 30 variables at most including only significant variables with a p-value $\\le 0.05$. \n",
    "We can set early_stopping=True to get potentially less variables in the final model."
   ]
  },
  {
   "cell_type": "code",
   "execution_count": 8,
   "metadata": {},
   "outputs": [
    {
     "name": "stdout",
     "output_type": "stream",
     "text": [
      "variable col_5 entered in step 1\n",
      "variable col_111 entered in step 2\n",
      "variable col_106 entered in step 3\n",
      "variable col_6 entered in step 4\n",
      "variable col_83 entered in step 5\n",
      "variable col_54 entered in step 6\n",
      "variable col_74 entered in step 7\n",
      "variable col_14 entered in step 8\n",
      "variable col_110 entered in step 9\n",
      "variable col_102 entered in step 10\n",
      "variable col_3 entered in step 11\n",
      "variable col_2 entered in step 12\n",
      "variable col_29 entered in step 13\n",
      "variable col_107 entered in step 14\n",
      "variable col_26 entered in step 15\n",
      "variable col_69 entered in step 16\n",
      "variable col_94 entered in step 17\n",
      "variable col_1 entered in step 18\n",
      "variable col_16 entered in step 19\n",
      "variable col_49 entered in step 20\n",
      "variable col_86 entered in step 21\n",
      "variable col_72 entered in step 22\n",
      "variable col_96 entered in step 23\n",
      "variable col_24 entered in step 24\n",
      "variable col_43 entered in step 25\n",
      "variable col_36 entered in step 26\n",
      "variable col_77 entered in step 27\n",
      "variable col_93 entered in step 28\n",
      "variable col_25 entered in step 29\n",
      "variable col_76 entered in step 30\n",
      "Final variable list after early stopping: ['intercept', 'col_5', 'col_111', 'col_106', 'col_6', 'col_83', 'col_54', 'col_74', 'col_14', 'col_110', 'col_102', 'col_3', 'col_2', 'col_29', 'col_107', 'col_26', 'col_69', 'col_94', 'col_1', 'col_16', 'col_49', 'col_86', 'col_72', 'col_96', 'col_24', 'col_43']\n",
      "Final variable list model: ['intercept', 'col_5', 'col_111', 'col_106', 'col_6', 'col_83', 'col_54', 'col_74', 'col_14', 'col_110', 'col_102', 'col_3', 'col_2', 'col_29', 'col_107', 'col_26', 'col_69', 'col_94', 'col_1', 'col_16', 'col_49', 'col_86', 'col_72', 'col_96', 'col_24', 'col_43', 'col_36', 'col_77', 'col_93', 'col_25', 'col_76']\n",
      "                           Logit Regression Results                           \n",
      "==============================================================================\n",
      "Dep. Variable:                targets   No. Observations:                13713\n",
      "Model:                          Logit   Df Residuals:                    13682\n",
      "Method:                           MLE   Df Model:                           30\n",
      "Date:                Thu, 28 Jul 2022   Pseudo R-squ.:                  0.6349\n",
      "Time:                        16:34:52   Log-Likelihood:                -2901.4\n",
      "converged:                       True   LL-Null:                       -7947.5\n",
      "Covariance Type:            nonrobust   LLR p-value:                     0.000\n",
      "==============================================================================\n",
      "                 coef    std err          z      P>|z|      [0.025      0.975]\n",
      "------------------------------------------------------------------------------\n",
      "intercept     47.5886      2.263     21.030      0.000      43.153      52.024\n",
      "col_5         -3.5801      0.177    -20.270      0.000      -3.926      -3.234\n",
      "col_111       -3.2023      0.280    -11.422      0.000      -3.752      -2.653\n",
      "col_106       -7.3549      0.555    -13.252      0.000      -8.443      -6.267\n",
      "col_6         -3.0150      0.226    -13.322      0.000      -3.459      -2.571\n",
      "col_83        -3.1457      0.243    -12.955      0.000      -3.622      -2.670\n",
      "col_54        -1.6491      0.386     -4.278      0.000      -2.405      -0.894\n",
      "col_74        -5.6045      0.392    -14.291      0.000      -6.373      -4.836\n",
      "col_14        -2.5301      0.331     -7.634      0.000      -3.180      -1.881\n",
      "col_110      -10.6456      0.853    -12.485      0.000     -12.317      -8.974\n",
      "col_102       -5.1903      0.474    -10.953      0.000      -6.119      -4.262\n",
      "col_3         -3.4479      0.287    -12.004      0.000      -4.011      -2.885\n",
      "col_2         -6.2143      0.700     -8.876      0.000      -7.587      -4.842\n",
      "col_29        -3.8558      0.508     -7.591      0.000      -4.851      -2.860\n",
      "col_107       -4.0884      0.808     -5.061      0.000      -5.672      -2.505\n",
      "col_26        -5.7185      1.115     -5.129      0.000      -7.904      -3.533\n",
      "col_69        -2.0987      0.429     -4.889      0.000      -2.940      -1.257\n",
      "col_94        -3.8593      0.805     -4.794      0.000      -5.437      -2.282\n",
      "col_1         -1.7101      0.333     -5.140      0.000      -2.362      -1.058\n",
      "col_16         6.8705      0.978      7.023      0.000       4.953       8.788\n",
      "col_49        -3.1201      0.513     -6.085      0.000      -4.125      -2.115\n",
      "col_86        -2.3639      0.488     -4.846      0.000      -3.320      -1.408\n",
      "col_72         5.1138      1.405      3.638      0.000       2.359       7.869\n",
      "col_96         8.3494      1.239      6.738      0.000       5.921      10.778\n",
      "col_24        -5.0549      1.122     -4.504      0.000      -7.255      -2.855\n",
      "col_43        -3.9466      0.858     -4.602      0.000      -5.627      -2.266\n",
      "col_36         2.6925      0.605      4.448      0.000       1.506       3.879\n",
      "col_77        -2.3416      0.642     -3.645      0.000      -3.600      -1.083\n",
      "col_93         5.4030      1.389      3.891      0.000       2.682       8.125\n",
      "col_25        -1.6598      0.480     -3.454      0.001      -2.601      -0.718\n",
      "col_76        -1.0092      0.305     -3.311      0.001      -1.606      -0.412\n",
      "==============================================================================\n"
     ]
    },
    {
     "data": {
      "image/png": "[encoded data removed]",
      "text/plain": [
       "<Figure size 432x288 with 1 Axes>"
      ]
     },
     "metadata": {
      "needs_background": "light"
     },
     "output_type": "display_data"
    }
   ],
   "source": [
    "logit_results, logit_model, varlist = Logitstep(y_train,X_train,early_stopping=True)"
   ]
  },
  {
   "cell_type": "markdown",
   "metadata": {},
   "source": [
    "The early stopping procedure stops after 25 variables, since AUC is not improving after the 5 remaining steps. You can specify the patience and tolerance of improvement to influence the variable selection. \n",
    "\n",
    "For example, setting patience=5 and tol=0.01 leads to the following model:"
   ]
  },
  {
   "cell_type": "code",
   "execution_count": 9,
   "metadata": {
    "scrolled": false
   },
   "outputs": [
    {
     "name": "stdout",
     "output_type": "stream",
     "text": [
      "variable col_5 entered in step 1\n",
      "variable col_111 entered in step 2\n",
      "variable col_106 entered in step 3\n",
      "variable col_6 entered in step 4\n",
      "variable col_83 entered in step 5\n",
      "variable col_54 entered in step 6\n",
      "variable col_74 entered in step 7\n",
      "variable col_14 entered in step 8\n",
      "variable col_110 entered in step 9\n",
      "variable col_102 entered in step 10\n",
      "variable col_3 entered in step 11\n",
      "variable col_2 entered in step 12\n",
      "variable col_29 entered in step 13\n",
      "variable col_107 entered in step 14\n",
      "variable col_26 entered in step 15\n",
      "variable col_69 entered in step 16\n",
      "variable col_94 entered in step 17\n",
      "variable col_1 entered in step 18\n",
      "variable col_16 entered in step 19\n",
      "variable col_49 entered in step 20\n",
      "variable col_86 entered in step 21\n",
      "variable col_72 entered in step 22\n",
      "variable col_96 entered in step 23\n",
      "variable col_24 entered in step 24\n",
      "variable col_43 entered in step 25\n",
      "variable col_36 entered in step 26\n",
      "variable col_77 entered in step 27\n",
      "variable col_93 entered in step 28\n",
      "variable col_25 entered in step 29\n",
      "variable col_76 entered in step 30\n",
      "Final variable list after early stopping: ['intercept', 'col_5', 'col_111', 'col_106', 'col_6', 'col_83', 'col_54', 'col_74', 'col_14', 'col_110']\n",
      "Final variable list model: ['intercept', 'col_5', 'col_111', 'col_106', 'col_6', 'col_83', 'col_54', 'col_74', 'col_14', 'col_110', 'col_102', 'col_3', 'col_2', 'col_29', 'col_107', 'col_26', 'col_69', 'col_94', 'col_1', 'col_16', 'col_49', 'col_86', 'col_72', 'col_96', 'col_24', 'col_43', 'col_36', 'col_77', 'col_93', 'col_25', 'col_76']\n",
      "                           Logit Regression Results                           \n",
      "==============================================================================\n",
      "Dep. Variable:                targets   No. Observations:                13713\n",
      "Model:                          Logit   Df Residuals:                    13682\n",
      "Method:                           MLE   Df Model:                           30\n",
      "Date:                Thu, 28 Jul 2022   Pseudo R-squ.:                  0.6349\n",
      "Time:                        16:37:10   Log-Likelihood:                -2901.4\n",
      "converged:                       True   LL-Null:                       -7947.5\n",
      "Covariance Type:            nonrobust   LLR p-value:                     0.000\n",
      "==============================================================================\n",
      "                 coef    std err          z      P>|z|      [0.025      0.975]\n",
      "------------------------------------------------------------------------------\n",
      "intercept     47.5886      2.263     21.030      0.000      43.153      52.024\n",
      "col_5         -3.5801      0.177    -20.270      0.000      -3.926      -3.234\n",
      "col_111       -3.2023      0.280    -11.422      0.000      -3.752      -2.653\n",
      "col_106       -7.3549      0.555    -13.252      0.000      -8.443      -6.267\n",
      "col_6         -3.0150      0.226    -13.322      0.000      -3.459      -2.571\n",
      "col_83        -3.1457      0.243    -12.955      0.000      -3.622      -2.670\n",
      "col_54        -1.6491      0.386     -4.278      0.000      -2.405      -0.894\n",
      "col_74        -5.6045      0.392    -14.291      0.000      -6.373      -4.836\n",
      "col_14        -2.5301      0.331     -7.634      0.000      -3.180      -1.881\n",
      "col_110      -10.6456      0.853    -12.485      0.000     -12.317      -8.974\n",
      "col_102       -5.1903      0.474    -10.953      0.000      -6.119      -4.262\n",
      "col_3         -3.4479      0.287    -12.004      0.000      -4.011      -2.885\n",
      "col_2         -6.2143      0.700     -8.876      0.000      -7.587      -4.842\n",
      "col_29        -3.8558      0.508     -7.591      0.000      -4.851      -2.860\n",
      "col_107       -4.0884      0.808     -5.061      0.000      -5.672      -2.505\n",
      "col_26        -5.7185      1.115     -5.129      0.000      -7.904      -3.533\n",
      "col_69        -2.0987      0.429     -4.889      0.000      -2.940      -1.257\n",
      "col_94        -3.8593      0.805     -4.794      0.000      -5.437      -2.282\n",
      "col_1         -1.7101      0.333     -5.140      0.000      -2.362      -1.058\n",
      "col_16         6.8705      0.978      7.023      0.000       4.953       8.788\n",
      "col_49        -3.1201      0.513     -6.085      0.000      -4.125      -2.115\n",
      "col_86        -2.3639      0.488     -4.846      0.000      -3.320      -1.408\n",
      "col_72         5.1138      1.405      3.638      0.000       2.359       7.869\n",
      "col_96         8.3494      1.239      6.738      0.000       5.921      10.778\n",
      "col_24        -5.0549      1.122     -4.504      0.000      -7.255      -2.855\n",
      "col_43        -3.9466      0.858     -4.602      0.000      -5.627      -2.266\n",
      "col_36         2.6925      0.605      4.448      0.000       1.506       3.879\n",
      "col_77        -2.3416      0.642     -3.645      0.000      -3.600      -1.083\n",
      "col_93         5.4030      1.389      3.891      0.000       2.682       8.125\n",
      "col_25        -1.6598      0.480     -3.454      0.001      -2.601      -0.718\n",
      "col_76        -1.0092      0.305     -3.311      0.001      -1.606      -0.412\n",
      "==============================================================================\n"
     ]
    },
    {
     "data": {
      "image/png": "[encoded data removed]",
      "text/plain": [
       "<Figure size 432x288 with 1 Axes>"
      ]
     },
     "metadata": {
      "needs_background": "light"
     },
     "output_type": "display_data"
    }
   ],
   "source": [
    "logit_results, logit_model, varlist = Logitstep(y_train,X_train,early_stopping=True,patience=5,tol=0.01)"
   ]
  },
  {
   "cell_type": "markdown",
   "metadata": {},
   "source": [
    "Since setting this two parameters is more trial and error, one could just manual decide which variables to include in the model. Using early stopping does not influence the model output, i.e. one have to set the maxsteps parameter to the desired number of variables. Therefore we set maxsteps=15, which seems a good choice, regarding the plot."
   ]
  },
  {
   "cell_type": "code",
   "execution_count": 10,
   "metadata": {
    "scrolled": true
   },
   "outputs": [
    {
     "name": "stdout",
     "output_type": "stream",
     "text": [
      "variable col_5 entered in step 1\n",
      "variable col_111 entered in step 2\n",
      "variable col_106 entered in step 3\n",
      "variable col_6 entered in step 4\n",
      "variable col_83 entered in step 5\n",
      "variable col_54 entered in step 6\n",
      "variable col_74 entered in step 7\n",
      "variable col_14 entered in step 8\n",
      "variable col_110 entered in step 9\n",
      "variable col_102 entered in step 10\n",
      "variable col_3 entered in step 11\n",
      "variable col_2 entered in step 12\n",
      "variable col_29 entered in step 13\n",
      "variable col_107 entered in step 14\n",
      "variable col_26 entered in step 15\n",
      "Final variable list model: ['intercept', 'col_5', 'col_111', 'col_106', 'col_6', 'col_83', 'col_54', 'col_74', 'col_14', 'col_110', 'col_102', 'col_3', 'col_2', 'col_29', 'col_107', 'col_26']\n",
      "                           Logit Regression Results                           \n",
      "==============================================================================\n",
      "Dep. Variable:                targets   No. Observations:                13713\n",
      "Model:                          Logit   Df Residuals:                    13697\n",
      "Method:                           MLE   Df Model:                           15\n",
      "Date:                Thu, 28 Jul 2022   Pseudo R-squ.:                  0.6132\n",
      "Time:                        16:37:58   Log-Likelihood:                -3073.8\n",
      "converged:                       True   LL-Null:                       -7947.5\n",
      "Covariance Type:            nonrobust   LLR p-value:                     0.000\n",
      "==============================================================================\n",
      "                 coef    std err          z      P>|z|      [0.025      0.975]\n",
      "------------------------------------------------------------------------------\n",
      "intercept     48.1113      1.441     33.379      0.000      45.286      50.936\n",
      "col_5         -3.5352      0.170    -20.817      0.000      -3.868      -3.202\n",
      "col_111       -4.3643      0.237    -18.450      0.000      -4.828      -3.901\n",
      "col_106       -6.7714      0.513    -13.203      0.000      -7.777      -5.766\n",
      "col_6         -3.0398      0.218    -13.927      0.000      -3.468      -2.612\n",
      "col_83        -3.0887      0.222    -13.908      0.000      -3.524      -2.653\n",
      "col_54        -2.2843      0.234     -9.779      0.000      -2.742      -1.826\n",
      "col_74        -4.8513      0.345    -14.059      0.000      -5.528      -4.175\n",
      "col_14        -2.9983      0.309     -9.706      0.000      -3.604      -2.393\n",
      "col_110       -9.0095      0.831    -10.844      0.000     -10.638      -7.381\n",
      "col_102       -4.2914      0.437     -9.814      0.000      -5.148      -3.434\n",
      "col_3         -3.2614      0.266    -12.249      0.000      -3.783      -2.740\n",
      "col_2         -6.9631      0.682    -10.216      0.000      -8.299      -5.627\n",
      "col_29        -3.6679      0.486     -7.541      0.000      -4.621      -2.715\n",
      "col_107       -4.5219      0.757     -5.976      0.000      -6.005      -3.039\n",
      "col_26        -6.0504      1.074     -5.631      0.000      -8.156      -3.944\n",
      "==============================================================================\n"
     ]
    },
    {
     "data": {
      "image/png": "[encoded data removed]",
      "text/plain": [
       "<Figure size 432x288 with 1 Axes>"
      ]
     },
     "metadata": {
      "needs_background": "light"
     },
     "output_type": "display_data"
    }
   ],
   "source": [
    "logit_results_final, logit_model_final, varlist_final = Logitstep(y_train,X_train,maxsteps=15)"
   ]
  },
  {
   "cell_type": "markdown",
   "metadata": {},
   "source": [
    "# Model testing"
   ]
  },
  {
   "cell_type": "markdown",
   "metadata": {},
   "source": [
    "Having the final model we can test it. Therfore we have to include the intercept, which is automatically included in the model. After that, we can compare the logit_model with maxtseps 30 and the logit_model_final with maxsteps=15."
   ]
  },
  {
   "cell_type": "code",
   "execution_count": 11,
   "metadata": {},
   "outputs": [],
   "source": [
    "X_test_intercept = X_test.assign(intercept = 1)\n",
    "prob = logit_model.predict(X_test_intercept[varlist])\n",
    "prob_final = logit_model_final.predict(X_test_intercept[varlist_final])"
   ]
  },
  {
   "cell_type": "code",
   "execution_count": 12,
   "metadata": {},
   "outputs": [
    {
     "name": "stdout",
     "output_type": "stream",
     "text": [
      "logit_model 95.41\n",
      "logit_model_final 94.96\n"
     ]
    }
   ],
   "source": [
    "print(\"logit_model\",round(roc_auc_score(y_test, prob)*100,2))\n",
    "print(\"logit_model_final\",round(roc_auc_score(y_test, prob_final)*100,2))"
   ]
  },
  {
   "cell_type": "markdown",
   "metadata": {},
   "source": [
    "Finally, logit_model_final leads to a 0.45 smaller AUC, but has half as much variables. So it is prefered to use the logit_model_final due to the parsimonious principal."
   ]
  },
  {
   "cell_type": "code",
   "execution_count": null,
   "metadata": {},
   "outputs": [],
   "source": []
  }
 ],
 "metadata": {
  "kernelspec": {
   "display_name": "Python 3",
   "language": "python",
   "name": "python3"
  },
  "language_info": {
   "codemirror_mode": {
    "name": "ipython",
    "version": 3
   },
   "file_extension": ".py",
   "mimetype": "text/x-python",
   "name": "python",
   "nbconvert_exporter": "python",
   "pygments_lexer": "ipython3",
   "version": "3.7.3"
  }
 },
 "nbformat": 4,
 "nbformat_minor": 4
}
